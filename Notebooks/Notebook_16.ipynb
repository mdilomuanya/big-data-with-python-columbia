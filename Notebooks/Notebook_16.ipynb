{
 "cells": [
  {
   "cell_type": "markdown",
   "id": "2ee410df-250a-4f89-aa4f-95bb592a9ecd",
   "metadata": {},
   "source": [
    "# Notebook 16\n",
    "# 04/28/25\n",
    "# EESC BC3050\n",
    "## Matthew-David Ilomuanya"
   ]
  },
  {
   "cell_type": "code",
   "execution_count": 1,
   "id": "7cdfe668-9be9-44f3-a52b-1c372550f41f",
   "metadata": {
    "tags": []
   },
   "outputs": [],
   "source": [
    "# The usual libraries\n",
    "import pandas as pd\n",
    "import numpy as np\n",
    "import matplotlib.pylab as plt\n",
    "\n",
    "#from scipy import stats\n",
    "#from matplotlib.backends.backend_pdf import PdfPages\n",
    "\n",
    "%matplotlib inline\n",
    "\n",
    "# The new ones\n",
    "import netCDF4\n",
    "import cartopy.crs as ccrs\n",
    "import cartopy.feature\n",
    "from cartopy.util import add_cyclic_point\n",
    "#import contextily as ctx\n",
    "\n",
    "import datetime\n",
    "\n",
    "import imageio\n",
    "import os"
   ]
  },
  {
   "cell_type": "code",
   "execution_count": 2,
   "id": "e4da970f-fa60-42c7-bd94-4f31c237bed5",
   "metadata": {
    "tags": []
   },
   "outputs": [],
   "source": [
    "file=('sst.day.mean.2024.nc')\n",
    "f=netCDF4.Dataset(file)"
   ]
  },
  {
   "cell_type": "code",
   "execution_count": 3,
   "id": "628932de-2e8f-423c-b4b6-2db7c10ec8b7",
   "metadata": {
    "tags": []
   },
   "outputs": [],
   "source": [
    "lon=f.variables['lon'][:]\n",
    "lat=f.variables['lat'][:]\n",
    "sst=f.variables['sst'][:]\n",
    "time=f.variables['time'][:]"
   ]
  },
  {
   "cell_type": "code",
   "execution_count": 4,
   "id": "0007c8df-badf-4a8c-993d-efcf7f4a46ef",
   "metadata": {
    "tags": []
   },
   "outputs": [
    {
     "name": "stderr",
     "output_type": "stream",
     "text": [
      "/var/folders/fm/wqwsv4hx2fs6mhx28vlh_g600000gn/T/ipykernel_8692/113937364.py:51: DeprecationWarning: Starting with ImageIO v3 the behavior of this function will switch to that of iio.v3.imread. To keep the current behavior (and make this warning disappear) use `import imageio.v2 as imageio` or call `imageio.v2.imread` directly.\n",
      "  images.append(imageio.imread(filename))\n"
     ]
    }
   ],
   "source": [
    "# Make sure the output directory exists\n",
    "if not os.path.exists('sst'):\n",
    "    os.makedirs('sst')\n",
    "\n",
    "# Set up contour levels\n",
    "levels = np.linspace(-2, 34, 37)\n",
    "\n",
    "# Set starting date\n",
    "start_date = datetime.datetime(2024, 1, 1)\n",
    "\n",
    "# Create and save each frame\n",
    "for iday in range(265, 366):  # Loop through all 366 days\n",
    "    fig, ax = plt.subplots(subplot_kw={\"projection\": ccrs.PlateCarree(central_longitude=-120)})\n",
    "    fig.set_size_inches(7.5, 5)\n",
    "    \n",
    "    # Basic map features\n",
    "    ax.coastlines()\n",
    "    ax.add_feature(cartopy.feature.BORDERS, edgecolor='k')\n",
    "    ax.add_feature(cartopy.feature.LAND, facecolor='xkcd:off white')\n",
    "    ax.gridlines(draw_labels=True)\n",
    "    \n",
    "    # Add cyclic point\n",
    "    data, lonW = add_cyclic_point(sst[iday], coord=lon)\n",
    "    \n",
    "    # Plot filled contours\n",
    "    air_contour = ax.contourf(\n",
    "        lonW, lat, data,\n",
    "        transform=ccrs.PlateCarree(),\n",
    "        cmap='jet', levels=levels\n",
    "    )\n",
    "    \n",
    "    # Add colorbar\n",
    "    cbar_ax = fig.colorbar(air_contour, ax=ax, shrink=0.5, aspect=10, pad=0.1)\n",
    "    cbar_ax.ax.set_title('Temp\\n(\\N{DEGREE SIGN}C)', fontsize=10)\n",
    "    \n",
    "    # Create title with my initials and date\n",
    "    current_date = start_date + datetime.timedelta(days=iday)\n",
    "    formatted_date = current_date.strftime(\"%B %d, %Y\")\n",
    "    title_text = f\"MD's Map {formatted_date}\"\n",
    "    ax.set_title(title_text, fontsize=14, fontweight='bold')\n",
    "    \n",
    "    # Save figure\n",
    "    filename = f'sst/sst_{iday:03d}.png'\n",
    "    plt.savefig(filename, bbox_inches='tight', dpi=100)\n",
    "    plt.close(fig)\n",
    "\n",
    "# Now make the GIF\n",
    "images = []\n",
    "for i in range(0, 366):\n",
    "    filename = f'sst/sst_{i:03d}.png'\n",
    "    images.append(imageio.imread(filename))\n",
    "\n",
    "imageio.mimsave('sst/omg_movie2.gif', images, duration=0.5)"
   ]
  },
  {
   "cell_type": "markdown",
   "id": "501091d9-8186-4596-9169-d57ce90afb21",
   "metadata": {},
   "source": [
    "## ***Project Description***\n",
    "* **\"omg_movie2.gif\"** displays the daily evolution of sea surface temperature (SST) data over the course of a full year (366 days). Each frame represents a single day's SST map, plotted globally with a Plate Carrée projection centered at -120° longitude.\n",
    "\n",
    "* The color scheme displays temperatures ranging from **-2°C to 34°C**\n",
    "\n",
    "* the gif plays at 0.5 seconds per frame = about 3 minutes for full playback"
   ]
  },
  {
   "cell_type": "code",
   "execution_count": null,
   "id": "a093e472-78d1-412d-a3ee-7abf3b6b9369",
   "metadata": {},
   "outputs": [],
   "source": []
  }
 ],
 "metadata": {
  "kernelspec": {
   "display_name": "Python 3 (ipykernel)",
   "language": "python",
   "name": "python3"
  },
  "language_info": {
   "codemirror_mode": {
    "name": "ipython",
    "version": 3
   },
   "file_extension": ".py",
   "mimetype": "text/x-python",
   "name": "python",
   "nbconvert_exporter": "python",
   "pygments_lexer": "ipython3",
   "version": "3.11.11"
  }
 },
 "nbformat": 4,
 "nbformat_minor": 5
}
